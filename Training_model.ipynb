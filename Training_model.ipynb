{
 "cells": [
  {
   "cell_type": "code",
   "execution_count": 4,
   "metadata": {},
   "outputs": [],
   "source": [
    "import pandas as pd\n",
    "from sklearn.model_selection import train_test_split\n",
    "\n",
    "pd.set_option('display.max_columns', None)\n",
    "\n",
    "df = pd.read_csv('train.csv')\n",
    "df.sample(5)\n",
    "\n",
    "y = df['Survived']\n",
    "x = df.drop(['Survived','PassengerId'],axis = 1)\n",
    "\n",
    "\n",
    "\n",
    "\n",
    "x_train, x_test, y_train,y_test = train_test_split(x,y, test_size = 0.15)"
   ]
  },
  {
   "cell_type": "code",
   "execution_count": 1,
   "metadata": {},
   "outputs": [
    {
     "name": "stdout",
     "output_type": "stream",
     "text": [
      "(891, 12)\n",
      "10692\n"
     ]
    }
   ],
   "source": [
    "import pandas as pd\n",
    "\n",
    "df_train = pd.read_csv('train.csv')\n",
    "df_test = pd.read_csv('test.csv')\n",
    "\n",
    "print(df_train.shape)\n",
    "print(df_train.size)"
   ]
  },
  {
   "cell_type": "code",
   "execution_count": 2,
   "metadata": {},
   "outputs": [
    {
     "data": {
      "text/html": [
       "<div>\n",
       "<style scoped>\n",
       "    .dataframe tbody tr th:only-of-type {\n",
       "        vertical-align: middle;\n",
       "    }\n",
       "\n",
       "    .dataframe tbody tr th {\n",
       "        vertical-align: top;\n",
       "    }\n",
       "\n",
       "    .dataframe thead th {\n",
       "        text-align: right;\n",
       "    }\n",
       "</style>\n",
       "<table border=\"1\" class=\"dataframe\">\n",
       "  <thead>\n",
       "    <tr style=\"text-align: right;\">\n",
       "      <th></th>\n",
       "      <th>PassengerId</th>\n",
       "      <th>Survived</th>\n",
       "      <th>Pclass</th>\n",
       "      <th>Name</th>\n",
       "      <th>Sex</th>\n",
       "      <th>Age</th>\n",
       "      <th>SibSp</th>\n",
       "      <th>Parch</th>\n",
       "      <th>Ticket</th>\n",
       "      <th>Fare</th>\n",
       "      <th>Cabin</th>\n",
       "      <th>Embarked</th>\n",
       "    </tr>\n",
       "  </thead>\n",
       "  <tbody>\n",
       "    <tr>\n",
       "      <th>0</th>\n",
       "      <td>1</td>\n",
       "      <td>0</td>\n",
       "      <td>3</td>\n",
       "      <td>Braund, Mr. Owen Harris</td>\n",
       "      <td>male</td>\n",
       "      <td>22.0</td>\n",
       "      <td>1</td>\n",
       "      <td>0</td>\n",
       "      <td>A/5 21171</td>\n",
       "      <td>7.2500</td>\n",
       "      <td>NaN</td>\n",
       "      <td>S</td>\n",
       "    </tr>\n",
       "    <tr>\n",
       "      <th>1</th>\n",
       "      <td>2</td>\n",
       "      <td>1</td>\n",
       "      <td>1</td>\n",
       "      <td>Cumings, Mrs. John Bradley (Florence Briggs Th...</td>\n",
       "      <td>female</td>\n",
       "      <td>38.0</td>\n",
       "      <td>1</td>\n",
       "      <td>0</td>\n",
       "      <td>PC 17599</td>\n",
       "      <td>71.2833</td>\n",
       "      <td>C85</td>\n",
       "      <td>C</td>\n",
       "    </tr>\n",
       "    <tr>\n",
       "      <th>2</th>\n",
       "      <td>3</td>\n",
       "      <td>1</td>\n",
       "      <td>3</td>\n",
       "      <td>Heikkinen, Miss. Laina</td>\n",
       "      <td>female</td>\n",
       "      <td>26.0</td>\n",
       "      <td>0</td>\n",
       "      <td>0</td>\n",
       "      <td>STON/O2. 3101282</td>\n",
       "      <td>7.9250</td>\n",
       "      <td>NaN</td>\n",
       "      <td>S</td>\n",
       "    </tr>\n",
       "    <tr>\n",
       "      <th>3</th>\n",
       "      <td>4</td>\n",
       "      <td>1</td>\n",
       "      <td>1</td>\n",
       "      <td>Futrelle, Mrs. Jacques Heath (Lily May Peel)</td>\n",
       "      <td>female</td>\n",
       "      <td>35.0</td>\n",
       "      <td>1</td>\n",
       "      <td>0</td>\n",
       "      <td>113803</td>\n",
       "      <td>53.1000</td>\n",
       "      <td>C123</td>\n",
       "      <td>S</td>\n",
       "    </tr>\n",
       "  </tbody>\n",
       "</table>\n",
       "</div>"
      ],
      "text/plain": [
       "   PassengerId  Survived  Pclass  \\\n",
       "0            1         0       3   \n",
       "1            2         1       1   \n",
       "2            3         1       3   \n",
       "3            4         1       1   \n",
       "\n",
       "                                                Name     Sex   Age  SibSp  \\\n",
       "0                            Braund, Mr. Owen Harris    male  22.0      1   \n",
       "1  Cumings, Mrs. John Bradley (Florence Briggs Th...  female  38.0      1   \n",
       "2                             Heikkinen, Miss. Laina  female  26.0      0   \n",
       "3       Futrelle, Mrs. Jacques Heath (Lily May Peel)  female  35.0      1   \n",
       "\n",
       "   Parch            Ticket     Fare Cabin Embarked  \n",
       "0      0         A/5 21171   7.2500   NaN        S  \n",
       "1      0          PC 17599  71.2833   C85        C  \n",
       "2      0  STON/O2. 3101282   7.9250   NaN        S  \n",
       "3      0            113803  53.1000  C123        S  "
      ]
     },
     "execution_count": 2,
     "metadata": {},
     "output_type": "execute_result"
    }
   ],
   "source": [
    "df_train.head(4)"
   ]
  },
  {
   "cell_type": "code",
   "execution_count": 3,
   "metadata": {},
   "outputs": [
    {
     "data": {
      "text/plain": [
       "Index(['PassengerId', 'Survived', 'Pclass', 'Name', 'Sex', 'Age', 'SibSp',\n",
       "       'Parch', 'Ticket', 'Fare', 'Cabin', 'Embarked'],\n",
       "      dtype='object')"
      ]
     },
     "execution_count": 3,
     "metadata": {},
     "output_type": "execute_result"
    }
   ],
   "source": [
    "df_train.columns"
   ]
  },
  {
   "cell_type": "code",
   "execution_count": 4,
   "metadata": {},
   "outputs": [
    {
     "name": "stdout",
     "output_type": "stream",
     "text": [
      "       PassengerId    Survived      Pclass         Age       SibSp  \\\n",
      "count   891.000000  891.000000  891.000000  714.000000  891.000000   \n",
      "mean    446.000000    0.383838    2.308642   29.699118    0.523008   \n",
      "std     257.353842    0.486592    0.836071   14.526497    1.102743   \n",
      "min       1.000000    0.000000    1.000000    0.420000    0.000000   \n",
      "25%     223.500000    0.000000    2.000000   20.125000    0.000000   \n",
      "50%     446.000000    0.000000    3.000000   28.000000    0.000000   \n",
      "75%     668.500000    1.000000    3.000000   38.000000    1.000000   \n",
      "max     891.000000    1.000000    3.000000   80.000000    8.000000   \n",
      "\n",
      "            Parch        Fare  \n",
      "count  891.000000  891.000000  \n",
      "mean     0.381594   32.204208  \n",
      "std      0.806057   49.693429  \n",
      "min      0.000000    0.000000  \n",
      "25%      0.000000    7.910400  \n",
      "50%      0.000000   14.454200  \n",
      "75%      0.000000   31.000000  \n",
      "max      6.000000  512.329200  \n"
     ]
    }
   ],
   "source": [
    "print(df_train.describe())"
   ]
  },
  {
   "cell_type": "code",
   "execution_count": 6,
   "metadata": {},
   "outputs": [
    {
     "data": {
      "text/plain": [
       "PassengerId      0\n",
       "Survived         0\n",
       "Pclass           0\n",
       "Name             0\n",
       "Sex              0\n",
       "Age            177\n",
       "SibSp            0\n",
       "Parch            0\n",
       "Ticket           0\n",
       "Fare             0\n",
       "Cabin          687\n",
       "Embarked         2\n",
       "dtype: int64"
      ]
     },
     "execution_count": 6,
     "metadata": {},
     "output_type": "execute_result"
    }
   ],
   "source": [
    "df_train.isnull().sum()"
   ]
  },
  {
   "cell_type": "code",
   "execution_count": 12,
   "metadata": {},
   "outputs": [
    {
     "name": "stdout",
     "output_type": "stream",
     "text": [
      "17 : ['Capt', 'Col', 'Don', 'Dr', 'Jonkheer', 'Lady', 'Major', 'Master', 'Miss', 'Mlle', 'Mme', 'Mr', 'Mrs', 'Ms', 'Rev', 'Sir', 'the Countess']\n",
      "Royale People    563\n",
      "Miss             184\n",
      "Mrs              126\n",
      "Dr                 7\n",
      "Rev                6\n",
      "Officer            5\n",
      "Name: Title, dtype: int64\n",
      "     PassengerId  Survived  Pclass  Sex   Age  SibSp  Parch     Fare  \\\n",
      "237          238         1       2    1   8.0      0      2  26.2500   \n",
      "133          134         1       2    1  29.0      1      0  26.0000   \n",
      "642          643         0       3    1   2.0      3      2  27.9000   \n",
      "497          498         0       3    0  28.0      0      0  15.1000   \n",
      "614          615         0       3    0  35.0      0      0   8.0500   \n",
      "485          486         0       3    1  28.0      3      1  25.4667   \n",
      "706          707         1       2    1  45.0      0      0  13.5000   \n",
      "320          321         0       3    0  22.0      0      0   7.2500   \n",
      "418          419         0       2    0  30.0      0      0  13.0000   \n",
      "598          599         0       3    0  28.0      0      0   7.2250   \n",
      "236          237         0       2    0  44.0      1      0  26.0000   \n",
      "32            33         1       3    1  28.0      0      0   7.7500   \n",
      "640          641         0       3    0  20.0      0      0   7.8542   \n",
      "468          469         0       3    0  28.0      0      0   7.7250   \n",
      "587          588         1       1    0  60.0      1      1  79.2000   \n",
      "534          535         0       3    1  30.0      0      0   8.6625   \n",
      "877          878         0       3    0  19.0      0      0   7.8958   \n",
      "285          286         0       3    0  33.0      0      0   8.6625   \n",
      "559          560         1       3    1  36.0      1      0  17.4000   \n",
      "60            61         0       3    0  22.0      0      0   7.2292   \n",
      "\n",
      "     Embarked  Title  \n",
      "237         0      1  \n",
      "133         0      0  \n",
      "642         0      1  \n",
      "497         0      6  \n",
      "614         0      6  \n",
      "485         0      1  \n",
      "706         0      0  \n",
      "320         0      6  \n",
      "418         0      6  \n",
      "598         2      6  \n",
      "236         0      6  \n",
      "32          1      1  \n",
      "640         0      6  \n",
      "468         1      6  \n",
      "587         2      6  \n",
      "534         0      1  \n",
      "877         0      6  \n",
      "285         2      6  \n",
      "559         0      0  \n",
      "60          2      6  \n"
     ]
    }
   ],
   "source": [
    "import pandas as pd\n",
    "import seaborn as sb\n",
    "import matplotlib.pyplot as plt\n",
    "pd.set_option('display.max_columns', None)\n",
    "pd.set_option('display.max_rows', None)\n",
    "df_train = pd.read_csv('train.csv')\n",
    " \n",
    "def title(name):\n",
    "   if '.' in name:\n",
    "      return name.split(',')[1].split('.')[0].strip()\n",
    "   else:\n",
    "      return 'No title Exists'\n",
    "unique_titles =sorted(set([x for x in df_train['Name'].map(lambda x: title(x))]))\n",
    " \n",
    "print(len(unique_titles) ,':' ,unique_titles)\n",
    "def compact_titles(x):\n",
    "   title_new = x['Title']\n",
    "   if title_new in ['Capt', 'Col', 'Major']:\n",
    "      return 'Officer'\n",
    "   elif title_new in ['Mr','Master','Don','the Countess','Sir', 'Ms','Jonkheer', 'Dona', 'Lady']:\n",
    "      return 'Royale People'\n",
    "   elif title_new in ['Mrs','Master','Miss''the Countess','Mme','Lady']:\n",
    "      return 'Mrs'\n",
    "   elif title_new in ['Miss','Mrs','Mlle', 'Ms']:\n",
    "      return 'Miss'\n",
    "   else:\n",
    "      return title_new\n",
    " \n",
    " \n",
    "df_train['Title'] = df_train['Name'].map(lambda x: title(x))\n",
    " \n",
    "df_train['Title'] = df_train.apply(compact_titles, axis=1)\n",
    " \n",
    "print(df_train.Title.value_counts())\n",
    "df_train['Age'].fillna(df_train['Age'].median(), inplace =True)\n",
    "df_train['Fare'].fillna(df_train['Fare'].median(), inplace =True)\n",
    "df_train['Embarked'].fillna(\"S\" , inplace =True)\n",
    "df_train.drop('Name', axis=1, inplace=True)\n",
    "df_train.drop('Ticket', axis=1, inplace=True)\n",
    "df_train.drop('Cabin', axis=1, inplace=True)\n",
    "df_train.Sex.replace(('male', 'female'), (0, 1), inplace=True)\n",
    "df_train.Embarked.replace(('S', 'Q', 'C'), (0, 1, 2), inplace=True)\n",
    "df_train.Title.replace(('Mrs', 'Miss', 'Royale People', 'Dr', 'Rev', 'Officer','Royale People'), (0, 1, 2, 3, 4, 5, 6), inplace=True)\n",
    "print(df_train.sample(20))"
   ]
  },
  {
   "cell_type": "code",
   "execution_count": 7,
   "metadata": {},
   "outputs": [
    {
     "data": {
      "text/plain": [
       "Survived       1.000000\n",
       "Fare           0.257307\n",
       "Parch          0.081629\n",
       "PassengerId   -0.005007\n",
       "SibSp         -0.035322\n",
       "Age           -0.077221\n",
       "Pclass        -0.338481\n",
       "Name: Survived, dtype: float64"
      ]
     },
     "execution_count": 7,
     "metadata": {},
     "output_type": "execute_result"
    }
   ],
   "source": [
    "corr = df_train.corr() #correlation \n",
    "corr.Survived.sort_values(ascending=False)"
   ]
  },
  {
   "cell_type": "code",
   "execution_count": 8,
   "metadata": {},
   "outputs": [],
   "source": [
    "import pandas as pd\n",
    "from sklearn.model_selection import train_test_split\n",
    "\n",
    "#pd.set_option('display.max_columns', None)\n",
    "\n",
    "#df_train = pd.read_csv('train.csv')\n",
    "#df_train.sample(5)\n",
    "\n",
    "y = df_train['Survived']\n",
    "x = df_train.drop(['Survived','PassengerId'],axis = 1)\n",
    "\n",
    "\n",
    "\n",
    "\n",
    "x_train, x_test, y_train,y_test = train_test_split(x,y, test_size = 0.15)"
   ]
  },
  {
   "cell_type": "code",
   "execution_count": 14,
   "metadata": {},
   "outputs": [
    {
     "name": "stdout",
     "output_type": "stream",
     "text": [
      "Accuracy of Model is :79.85\n"
     ]
    }
   ],
   "source": [
    " \n",
    "import pickle\n",
    "from sklearn.ensemble import RandomForestClassifier\n",
    "from sklearn.metrics import accuracy_score\n",
    " \n",
    "rf = RandomForestClassifier()\n",
    "rf.fit(x_train,y_train)\n",
    "y_predicted = rf.predict(x_test)\n",
    " \n",
    "acc_rf = round(accuracy_score(y_predicted,y_test)*100,2)\n",
    "print(f'Accuracy of Model is :{acc_rf}')\n",
    "pickle.dump(rf,open('my_titanic_model.sav','wb'))\n",
    " "
   ]
  },
  {
   "cell_type": "code",
   "execution_count": 17,
   "metadata": {},
   "outputs": [
    {
     "name": "stdout",
     "output_type": "stream",
     "text": [
      "Accuracy of Model is :82.84\n"
     ]
    }
   ],
   "source": [
    " \n",
    "import pickle\n",
    "from sklearn.ensemble import RandomForestClassifier\n",
    "from sklearn.metrics import accuracy_score\n",
    " \n",
    "rf = RandomForestClassifier()\n",
    "rf.fit(x_train,y_train)\n",
    "y_predicted = rf.predict(x_test)\n",
    " \n",
    "acc_rf = round(accuracy_score(y_predicted,y_test)*100,2)\n",
    "print(f'Accuracy of Model is :{acc_rf}')\n",
    "pickle.dump(rf,open('my_titanic_model.sav','wb'))"
   ]
  },
  {
   "cell_type": "code",
   "execution_count": 18,
   "metadata": {},
   "outputs": [
    {
     "name": "stdout",
     "output_type": "stream",
     "text": [
      "Royale People    263\n",
      "Miss              78\n",
      "Mrs               72\n",
      "Rev                2\n",
      "Officer            2\n",
      "Dr                 1\n",
      "Name: Title, dtype: int64\n"
     ]
    }
   ],
   "source": [
    "# Creatinf Variables on TEST DATA\n",
    "df_test = pd.read_csv('test.csv')\n",
    " \n",
    "df_test['Title'] = df_test['Name'].map(lambda x: title(x))\n",
    " \n",
    "df_test['Title'] = df_test.apply(compact_titles, axis=1)\n",
    "ids = df_test['PassengerId']\n",
    "\n",
    "print(df_test.Title.value_counts())\n",
    "df_test['Age'].fillna(df_test['Age'].median(), inplace =True)\n",
    "df_test['Fare'].fillna(df_test['Fare'].median(), inplace =True)\n",
    "df_test['Embarked'].fillna(\"S\" , inplace =True)\n",
    "df_test.drop('Name', axis=1, inplace=True)\n",
    "df_test.drop('Ticket', axis=1, inplace=True)\n",
    "df_test.drop('Cabin', axis=1, inplace=True)\n",
    "df_test.drop('PassengerId', axis=1, inplace=True)\n",
    "df_test.Sex.replace(('male', 'female'), (0, 1), inplace=True)\n",
    "df_test.Embarked.replace(('S', 'Q', 'C'), (0, 1, 2), inplace=True)\n",
    "df_test.Title.replace(('Mrs', 'Miss', 'Royale People', 'Dr', 'Rev', 'Officer','Royale People'), (0, 1, 2, 3, 4, 5, 6), inplace=True)"
   ]
  },
  {
   "cell_type": "code",
   "execution_count": 20,
   "metadata": {},
   "outputs": [],
   "source": [
    "predicted_value = rf.predict(df_test)\n",
    "result = pd.DataFrame({'PassengerId':ids, 'Survived': predicted_value})\n",
    "result.to_csv('titanic_predicted_result.csv', index = False)"
   ]
  },
  {
   "cell_type": "code",
   "execution_count": null,
   "metadata": {},
   "outputs": [],
   "source": []
  }
 ],
 "metadata": {
  "kernelspec": {
   "display_name": "Python 3",
   "language": "python",
   "name": "python3"
  },
  "language_info": {
   "codemirror_mode": {
    "name": "ipython",
    "version": 3
   },
   "file_extension": ".py",
   "mimetype": "text/x-python",
   "name": "python",
   "nbconvert_exporter": "python",
   "pygments_lexer": "ipython3",
   "version": "3.7.6"
  }
 },
 "nbformat": 4,
 "nbformat_minor": 4
}
